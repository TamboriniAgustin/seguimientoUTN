{
  "cells": [
    {
      "cell_type": "code",
      "execution_count": null,
      "metadata": {
        "colab": {
          "base_uri": "https://localhost:8080/"
        },
        "id": "b8jPX1aUh79H",
        "outputId": "8dfb39bf-f33e-42c3-8fbf-882b233b3b01"
      },
      "outputs": [
        {
          "name": "stdout",
          "output_type": "stream",
          "text": [
            "Mounted at /content/drive\n"
          ]
        }
      ],
      "source": [
        "from google.colab import drive\n",
        "drive.mount('/content/drive',force_remount=True)"
      ]
    },
    {
      "cell_type": "code",
      "execution_count": null,
      "metadata": {
        "id": "0e6vAY_Sn-4A"
      },
      "outputs": [],
      "source": [
        "import numpy as np\n",
        "import pandas as pd\n",
        "import matplotlib.pyplot as plt\n",
        "from scipy import stats"
      ]
    },
    {
      "cell_type": "markdown",
      "source": [
        "# **Carga de datos**"
      ],
      "metadata": {
        "id": "Msh03p37s3Wt"
      }
    },
    {
      "cell_type": "code",
      "execution_count": null,
      "metadata": {
        "id": "D2a4wZ6zvZLX"
      },
      "outputs": [],
      "source": [
        "# Atención: modificar la ubicación del archivo en donde lo tengan en su propio drive\n",
        "IA_datos = pd.read_excel(\"/content/drive/MyDrive/Colab Notebooks/Datos.xlsx\", sheet_name='Base IA')\n",
        "TA_datos = pd.read_excel(\"/content/drive/MyDrive/Colab Notebooks/Datos.xlsx\", sheet_name='Base TA')"
      ]
    },
    {
      "cell_type": "markdown",
      "metadata": {
        "id": "Q8GcymvXszHL"
      },
      "source": [
        "##Análisis exploratorio de datos"
      ]
    },
    {
      "cell_type": "code",
      "execution_count": null,
      "metadata": {
        "colab": {
          "base_uri": "https://localhost:8080/"
        },
        "id": "wUaHP3oXByT8",
        "outputId": "d5280513-0d6f-4f14-f866-062962423add"
      },
      "outputs": [
        {
          "data": {
            "text/plain": [
              "(2201, 14)"
            ]
          },
          "execution_count": 9,
          "metadata": {},
          "output_type": "execute_result"
        }
      ],
      "source": [
        "TA_datos.shape"
      ]
    },
    {
      "cell_type": "code",
      "execution_count": null,
      "metadata": {
        "colab": {
          "base_uri": "https://localhost:8080/"
        },
        "id": "Sex2w7qxX8Pg",
        "outputId": "fba8ad2e-aef7-4998-ac6a-65ea890fed24"
      },
      "outputs": [
        {
          "data": {
            "text/plain": [
              "(2247, 14)"
            ]
          },
          "execution_count": 10,
          "metadata": {},
          "output_type": "execute_result"
        }
      ],
      "source": [
        "IA_datos.shape"
      ]
    },
    {
      "cell_type": "code",
      "execution_count": null,
      "metadata": {
        "colab": {
          "base_uri": "https://localhost:8080/",
          "height": 310
        },
        "id": "TneFlWlIpr-E",
        "outputId": "b6ed7f71-e257-4d17-bcee-0991a9880a22"
      },
      "outputs": [
        {
          "data": {
            "application/vnd.google.colaboratory.intrinsic+json": {
              "summary": "{\n  \"name\": \"IA_datos\",\n  \"rows\": 2247,\n  \"fields\": [\n    {\n      \"column\": \"Tipo\",\n      \"properties\": {\n        \"dtype\": \"category\",\n        \"num_unique_values\": 3,\n        \"samples\": [\n          \"Incidente\",\n          \"Solicitud\",\n          \"Incidente Mayor\"\n        ],\n        \"semantic_type\": \"\",\n        \"description\": \"\"\n      }\n    },\n    {\n      \"column\": \"Estado\",\n      \"properties\": {\n        \"dtype\": \"category\",\n        \"num_unique_values\": 4,\n        \"samples\": [\n          \"RESOLVED\",\n          \"OPEN\",\n          \"CLOSED\"\n        ],\n        \"semantic_type\": \"\",\n        \"description\": \"\"\n      }\n    },\n    {\n      \"column\": \"Fecha de apertura\",\n      \"properties\": {\n        \"dtype\": \"string\",\n        \"num_unique_values\": 2247,\n        \"samples\": [\n          \"2024-06-27T14:51:05.737Z\",\n          \"2024-02-25T14:20:11.061Z\",\n          \"2024-03-20T07:34:04.032Z\"\n        ],\n        \"semantic_type\": \"\",\n        \"description\": \"\"\n      }\n    },\n    {\n      \"column\": \"Fecha aprertura numero\",\n      \"properties\": {\n        \"dtype\": \"number\",\n        \"std\": 103991.32157108048,\n        \"min\": 65221700.85,\n        \"max\": 65586043.52,\n        \"num_unique_values\": 2247,\n        \"samples\": [\n          65477691.08,\n          65300540.18,\n          65334694.07\n        ],\n        \"semantic_type\": \"\",\n        \"description\": \"\"\n      }\n    },\n    {\n      \"column\": \"IA\",\n      \"properties\": {\n        \"dtype\": \"number\",\n        \"std\": 318.54721897436355,\n        \"min\": 0.0,\n        \"max\": 3770.333333,\n        \"num_unique_values\": 2099,\n        \"samples\": [\n          674.8,\n          0.8833333328,\n          9.300000004\n        ],\n        \"semantic_type\": \"\",\n        \"description\": \"\"\n      }\n    },\n    {\n      \"column\": \"Fecha Modificaci\\u00f3n\",\n      \"properties\": {\n        \"dtype\": \"string\",\n        \"num_unique_values\": 2247,\n        \"samples\": [\n          \"2024-08-15T14:21:52.121Z\",\n          \"2024-03-08T09:00:15.305Z\",\n          \"2024-03-28T11:00:14.731Z\"\n        ],\n        \"semantic_type\": \"\",\n        \"description\": \"\"\n      }\n    },\n    {\n      \"column\": \"Fecha Resuelto\",\n      \"properties\": {\n        \"dtype\": \"string\",\n        \"num_unique_values\": 2201,\n        \"samples\": [\n          \"2024-04-02T18:16:06.764Z\",\n          \"2024-03-11T10:32:19.993Z\",\n          \"2024-07-17T11:55:50.423Z\"\n        ],\n        \"semantic_type\": \"\",\n        \"description\": \"\"\n      }\n    },\n    {\n      \"column\": \"Criticidad\",\n      \"properties\": {\n        \"dtype\": \"category\",\n        \"num_unique_values\": 4,\n        \"samples\": [\n          \"Media\",\n          \"Ninguna\",\n          \"Baja\"\n        ],\n        \"semantic_type\": \"\",\n        \"description\": \"\"\n      }\n    },\n    {\n      \"column\": \"Sub estado\",\n      \"properties\": {\n        \"dtype\": \"category\",\n        \"num_unique_values\": 3,\n        \"samples\": [\n          \"Cancelado\",\n          \"Pendiente por usuario\",\n          \"Pendiente por Env\\u00edo Soporte\"\n        ],\n        \"semantic_type\": \"\",\n        \"description\": \"\"\n      }\n    },\n    {\n      \"column\": \"SLA petici\\u00f3n\",\n      \"properties\": {\n        \"dtype\": \"number\",\n        \"std\": 23,\n        \"min\": 6,\n        \"max\": 96,\n        \"num_unique_values\": 5,\n        \"samples\": [\n          96,\n          12,\n          6\n        ],\n        \"semantic_type\": \"\",\n        \"description\": \"\"\n      }\n    },\n    {\n      \"column\": \"Fecha de caducidad\",\n      \"properties\": {\n        \"dtype\": \"string\",\n        \"num_unique_values\": 2054,\n        \"samples\": [\n          \"2024-07-05T17:58:50.445Z\",\n          \"2024-04-01T14:17:40.744Z\",\n          \"2024-06-27T10:57:27.911Z\"\n        ],\n        \"semantic_type\": \"\",\n        \"description\": \"\"\n      }\n    },\n    {\n      \"column\": \"Tiempo resoluci\\u00f3n (d\\u00edas)\",\n      \"properties\": {\n        \"dtype\": \"number\",\n        \"std\": 6.696045718066447,\n        \"min\": 0.0009289930555555555,\n        \"max\": 62.92241530092593,\n        \"num_unique_values\": 2201,\n        \"samples\": [\n          0.9729369560185185,\n          1.028203113425926,\n          0.014091030092592592\n        ],\n        \"semantic_type\": \"\",\n        \"description\": \"\"\n      }\n    },\n    {\n      \"column\": \"SLA\",\n      \"properties\": {\n        \"dtype\": \"category\",\n        \"num_unique_values\": 2,\n        \"samples\": [\n          \"NO OK\",\n          \"Ok\"\n        ],\n        \"semantic_type\": \"\",\n        \"description\": \"\"\n      }\n    },\n    {\n      \"column\": \"Usuario AD\",\n      \"properties\": {\n        \"dtype\": \"category\",\n        \"num_unique_values\": 29,\n        \"samples\": [\n          \"JM4304\",\n          \"LB789123\"\n        ],\n        \"semantic_type\": \"\",\n        \"description\": \"\"\n      }\n    }\n  ]\n}",
              "type": "dataframe",
              "variable_name": "IA_datos"
            },
            "text/html": [
              "\n",
              "  <div id=\"df-9bcdc949-4cef-4872-9509-d0237a89529b\" class=\"colab-df-container\">\n",
              "    <div>\n",
              "<style scoped>\n",
              "    .dataframe tbody tr th:only-of-type {\n",
              "        vertical-align: middle;\n",
              "    }\n",
              "\n",
              "    .dataframe tbody tr th {\n",
              "        vertical-align: top;\n",
              "    }\n",
              "\n",
              "    .dataframe thead th {\n",
              "        text-align: right;\n",
              "    }\n",
              "</style>\n",
              "<table border=\"1\" class=\"dataframe\">\n",
              "  <thead>\n",
              "    <tr style=\"text-align: right;\">\n",
              "      <th></th>\n",
              "      <th>Tipo</th>\n",
              "      <th>Estado</th>\n",
              "      <th>Fecha de apertura</th>\n",
              "      <th>Fecha aprertura numero</th>\n",
              "      <th>IA</th>\n",
              "      <th>Fecha Modificación</th>\n",
              "      <th>Fecha Resuelto</th>\n",
              "      <th>Criticidad</th>\n",
              "      <th>Sub estado</th>\n",
              "      <th>SLA petición</th>\n",
              "      <th>Fecha de caducidad</th>\n",
              "      <th>Tiempo resolución (días)</th>\n",
              "      <th>SLA</th>\n",
              "      <th>Usuario AD</th>\n",
              "    </tr>\n",
              "  </thead>\n",
              "  <tbody>\n",
              "    <tr>\n",
              "      <th>0</th>\n",
              "      <td>Incidente</td>\n",
              "      <td>CLOSED</td>\n",
              "      <td>2024-01-01T20:20:51.167Z</td>\n",
              "      <td>65221700.85</td>\n",
              "      <td>0.000000</td>\n",
              "      <td>2024-01-11T19:00:01.214Z</td>\n",
              "      <td>2024-01-04T17:10:41.408Z</td>\n",
              "      <td>Baja</td>\n",
              "      <td>NaN</td>\n",
              "      <td>48</td>\n",
              "      <td>2024-01-08T13:00:00Z</td>\n",
              "      <td>2.867943</td>\n",
              "      <td>Ok</td>\n",
              "      <td>EE9151</td>\n",
              "    </tr>\n",
              "    <tr>\n",
              "      <th>1</th>\n",
              "      <td>Incidente</td>\n",
              "      <td>CLOSED</td>\n",
              "      <td>2024-01-02T08:36:26.849Z</td>\n",
              "      <td>65222436.43</td>\n",
              "      <td>735.583333</td>\n",
              "      <td>2024-01-12T11:00:01.273Z</td>\n",
              "      <td>2024-01-05T09:37:58.174Z</td>\n",
              "      <td>Baja</td>\n",
              "      <td>NaN</td>\n",
              "      <td>48</td>\n",
              "      <td>2024-01-09T06:36:26.849Z</td>\n",
              "      <td>3.042724</td>\n",
              "      <td>Ok</td>\n",
              "      <td>AMA0829</td>\n",
              "    </tr>\n",
              "    <tr>\n",
              "      <th>2</th>\n",
              "      <td>Solicitud</td>\n",
              "      <td>CLOSED</td>\n",
              "      <td>2024-01-02T08:45:16.557Z</td>\n",
              "      <td>65222445.27</td>\n",
              "      <td>8.833333</td>\n",
              "      <td>2024-01-09T15:00:00.563Z</td>\n",
              "      <td>2024-01-02T13:24:28.271Z</td>\n",
              "      <td>Baja</td>\n",
              "      <td>NaN</td>\n",
              "      <td>48</td>\n",
              "      <td>2024-01-09T06:45:16.557Z</td>\n",
              "      <td>0.193886</td>\n",
              "      <td>Ok</td>\n",
              "      <td>AC1234</td>\n",
              "    </tr>\n",
              "    <tr>\n",
              "      <th>3</th>\n",
              "      <td>Solicitud</td>\n",
              "      <td>CLOSED</td>\n",
              "      <td>2024-01-02T08:58:53.171Z</td>\n",
              "      <td>65222458.88</td>\n",
              "      <td>13.616667</td>\n",
              "      <td>2024-03-11T09:42:32.097Z</td>\n",
              "      <td>2024-01-08T10:46:09.116Z</td>\n",
              "      <td>Baja</td>\n",
              "      <td>NaN</td>\n",
              "      <td>96</td>\n",
              "      <td>2024-01-15T14:58:53.171Z</td>\n",
              "      <td>6.074490</td>\n",
              "      <td>Ok</td>\n",
              "      <td>PA7894</td>\n",
              "    </tr>\n",
              "    <tr>\n",
              "      <th>4</th>\n",
              "      <td>Incidente</td>\n",
              "      <td>CLOSED</td>\n",
              "      <td>2024-01-02T10:02:27.654Z</td>\n",
              "      <td>65222522.45</td>\n",
              "      <td>63.566667</td>\n",
              "      <td>2024-07-23T15:43:56.906Z</td>\n",
              "      <td>2024-02-22T14:23:28.119Z</td>\n",
              "      <td>Baja</td>\n",
              "      <td>NaN</td>\n",
              "      <td>48</td>\n",
              "      <td>2024-01-09T08:02:27.654Z</td>\n",
              "      <td>51.181255</td>\n",
              "      <td>NO OK</td>\n",
              "      <td>AMA0787</td>\n",
              "    </tr>\n",
              "  </tbody>\n",
              "</table>\n",
              "</div>\n",
              "    <div class=\"colab-df-buttons\">\n",
              "\n",
              "  <div class=\"colab-df-container\">\n",
              "    <button class=\"colab-df-convert\" onclick=\"convertToInteractive('df-9bcdc949-4cef-4872-9509-d0237a89529b')\"\n",
              "            title=\"Convert this dataframe to an interactive table.\"\n",
              "            style=\"display:none;\">\n",
              "\n",
              "  <svg xmlns=\"http://www.w3.org/2000/svg\" height=\"24px\" viewBox=\"0 -960 960 960\">\n",
              "    <path d=\"M120-120v-720h720v720H120Zm60-500h600v-160H180v160Zm220 220h160v-160H400v160Zm0 220h160v-160H400v160ZM180-400h160v-160H180v160Zm440 0h160v-160H620v160ZM180-180h160v-160H180v160Zm440 0h160v-160H620v160Z\"/>\n",
              "  </svg>\n",
              "    </button>\n",
              "\n",
              "  <style>\n",
              "    .colab-df-container {\n",
              "      display:flex;\n",
              "      gap: 12px;\n",
              "    }\n",
              "\n",
              "    .colab-df-convert {\n",
              "      background-color: #E8F0FE;\n",
              "      border: none;\n",
              "      border-radius: 50%;\n",
              "      cursor: pointer;\n",
              "      display: none;\n",
              "      fill: #1967D2;\n",
              "      height: 32px;\n",
              "      padding: 0 0 0 0;\n",
              "      width: 32px;\n",
              "    }\n",
              "\n",
              "    .colab-df-convert:hover {\n",
              "      background-color: #E2EBFA;\n",
              "      box-shadow: 0px 1px 2px rgba(60, 64, 67, 0.3), 0px 1px 3px 1px rgba(60, 64, 67, 0.15);\n",
              "      fill: #174EA6;\n",
              "    }\n",
              "\n",
              "    .colab-df-buttons div {\n",
              "      margin-bottom: 4px;\n",
              "    }\n",
              "\n",
              "    [theme=dark] .colab-df-convert {\n",
              "      background-color: #3B4455;\n",
              "      fill: #D2E3FC;\n",
              "    }\n",
              "\n",
              "    [theme=dark] .colab-df-convert:hover {\n",
              "      background-color: #434B5C;\n",
              "      box-shadow: 0px 1px 3px 1px rgba(0, 0, 0, 0.15);\n",
              "      filter: drop-shadow(0px 1px 2px rgba(0, 0, 0, 0.3));\n",
              "      fill: #FFFFFF;\n",
              "    }\n",
              "  </style>\n",
              "\n",
              "    <script>\n",
              "      const buttonEl =\n",
              "        document.querySelector('#df-9bcdc949-4cef-4872-9509-d0237a89529b button.colab-df-convert');\n",
              "      buttonEl.style.display =\n",
              "        google.colab.kernel.accessAllowed ? 'block' : 'none';\n",
              "\n",
              "      async function convertToInteractive(key) {\n",
              "        const element = document.querySelector('#df-9bcdc949-4cef-4872-9509-d0237a89529b');\n",
              "        const dataTable =\n",
              "          await google.colab.kernel.invokeFunction('convertToInteractive',\n",
              "                                                    [key], {});\n",
              "        if (!dataTable) return;\n",
              "\n",
              "        const docLinkHtml = 'Like what you see? Visit the ' +\n",
              "          '<a target=\"_blank\" href=https://colab.research.google.com/notebooks/data_table.ipynb>data table notebook</a>'\n",
              "          + ' to learn more about interactive tables.';\n",
              "        element.innerHTML = '';\n",
              "        dataTable['output_type'] = 'display_data';\n",
              "        await google.colab.output.renderOutput(dataTable, element);\n",
              "        const docLink = document.createElement('div');\n",
              "        docLink.innerHTML = docLinkHtml;\n",
              "        element.appendChild(docLink);\n",
              "      }\n",
              "    </script>\n",
              "  </div>\n",
              "\n",
              "\n",
              "<div id=\"df-67e7bfc4-da37-40e9-98a1-b8655ecec95d\">\n",
              "  <button class=\"colab-df-quickchart\" onclick=\"quickchart('df-67e7bfc4-da37-40e9-98a1-b8655ecec95d')\"\n",
              "            title=\"Suggest charts\"\n",
              "            style=\"display:none;\">\n",
              "\n",
              "<svg xmlns=\"http://www.w3.org/2000/svg\" height=\"24px\"viewBox=\"0 0 24 24\"\n",
              "     width=\"24px\">\n",
              "    <g>\n",
              "        <path d=\"M19 3H5c-1.1 0-2 .9-2 2v14c0 1.1.9 2 2 2h14c1.1 0 2-.9 2-2V5c0-1.1-.9-2-2-2zM9 17H7v-7h2v7zm4 0h-2V7h2v10zm4 0h-2v-4h2v4z\"/>\n",
              "    </g>\n",
              "</svg>\n",
              "  </button>\n",
              "\n",
              "<style>\n",
              "  .colab-df-quickchart {\n",
              "      --bg-color: #E8F0FE;\n",
              "      --fill-color: #1967D2;\n",
              "      --hover-bg-color: #E2EBFA;\n",
              "      --hover-fill-color: #174EA6;\n",
              "      --disabled-fill-color: #AAA;\n",
              "      --disabled-bg-color: #DDD;\n",
              "  }\n",
              "\n",
              "  [theme=dark] .colab-df-quickchart {\n",
              "      --bg-color: #3B4455;\n",
              "      --fill-color: #D2E3FC;\n",
              "      --hover-bg-color: #434B5C;\n",
              "      --hover-fill-color: #FFFFFF;\n",
              "      --disabled-bg-color: #3B4455;\n",
              "      --disabled-fill-color: #666;\n",
              "  }\n",
              "\n",
              "  .colab-df-quickchart {\n",
              "    background-color: var(--bg-color);\n",
              "    border: none;\n",
              "    border-radius: 50%;\n",
              "    cursor: pointer;\n",
              "    display: none;\n",
              "    fill: var(--fill-color);\n",
              "    height: 32px;\n",
              "    padding: 0;\n",
              "    width: 32px;\n",
              "  }\n",
              "\n",
              "  .colab-df-quickchart:hover {\n",
              "    background-color: var(--hover-bg-color);\n",
              "    box-shadow: 0 1px 2px rgba(60, 64, 67, 0.3), 0 1px 3px 1px rgba(60, 64, 67, 0.15);\n",
              "    fill: var(--button-hover-fill-color);\n",
              "  }\n",
              "\n",
              "  .colab-df-quickchart-complete:disabled,\n",
              "  .colab-df-quickchart-complete:disabled:hover {\n",
              "    background-color: var(--disabled-bg-color);\n",
              "    fill: var(--disabled-fill-color);\n",
              "    box-shadow: none;\n",
              "  }\n",
              "\n",
              "  .colab-df-spinner {\n",
              "    border: 2px solid var(--fill-color);\n",
              "    border-color: transparent;\n",
              "    border-bottom-color: var(--fill-color);\n",
              "    animation:\n",
              "      spin 1s steps(1) infinite;\n",
              "  }\n",
              "\n",
              "  @keyframes spin {\n",
              "    0% {\n",
              "      border-color: transparent;\n",
              "      border-bottom-color: var(--fill-color);\n",
              "      border-left-color: var(--fill-color);\n",
              "    }\n",
              "    20% {\n",
              "      border-color: transparent;\n",
              "      border-left-color: var(--fill-color);\n",
              "      border-top-color: var(--fill-color);\n",
              "    }\n",
              "    30% {\n",
              "      border-color: transparent;\n",
              "      border-left-color: var(--fill-color);\n",
              "      border-top-color: var(--fill-color);\n",
              "      border-right-color: var(--fill-color);\n",
              "    }\n",
              "    40% {\n",
              "      border-color: transparent;\n",
              "      border-right-color: var(--fill-color);\n",
              "      border-top-color: var(--fill-color);\n",
              "    }\n",
              "    60% {\n",
              "      border-color: transparent;\n",
              "      border-right-color: var(--fill-color);\n",
              "    }\n",
              "    80% {\n",
              "      border-color: transparent;\n",
              "      border-right-color: var(--fill-color);\n",
              "      border-bottom-color: var(--fill-color);\n",
              "    }\n",
              "    90% {\n",
              "      border-color: transparent;\n",
              "      border-bottom-color: var(--fill-color);\n",
              "    }\n",
              "  }\n",
              "</style>\n",
              "\n",
              "  <script>\n",
              "    async function quickchart(key) {\n",
              "      const quickchartButtonEl =\n",
              "        document.querySelector('#' + key + ' button');\n",
              "      quickchartButtonEl.disabled = true;  // To prevent multiple clicks.\n",
              "      quickchartButtonEl.classList.add('colab-df-spinner');\n",
              "      try {\n",
              "        const charts = await google.colab.kernel.invokeFunction(\n",
              "            'suggestCharts', [key], {});\n",
              "      } catch (error) {\n",
              "        console.error('Error during call to suggestCharts:', error);\n",
              "      }\n",
              "      quickchartButtonEl.classList.remove('colab-df-spinner');\n",
              "      quickchartButtonEl.classList.add('colab-df-quickchart-complete');\n",
              "    }\n",
              "    (() => {\n",
              "      let quickchartButtonEl =\n",
              "        document.querySelector('#df-67e7bfc4-da37-40e9-98a1-b8655ecec95d button');\n",
              "      quickchartButtonEl.style.display =\n",
              "        google.colab.kernel.accessAllowed ? 'block' : 'none';\n",
              "    })();\n",
              "  </script>\n",
              "</div>\n",
              "\n",
              "    </div>\n",
              "  </div>\n"
            ],
            "text/plain": [
              "        Tipo  Estado         Fecha de apertura  Fecha aprertura numero  \\\n",
              "0  Incidente  CLOSED  2024-01-01T20:20:51.167Z             65221700.85   \n",
              "1  Incidente  CLOSED  2024-01-02T08:36:26.849Z             65222436.43   \n",
              "2  Solicitud  CLOSED  2024-01-02T08:45:16.557Z             65222445.27   \n",
              "3  Solicitud  CLOSED  2024-01-02T08:58:53.171Z             65222458.88   \n",
              "4  Incidente  CLOSED  2024-01-02T10:02:27.654Z             65222522.45   \n",
              "\n",
              "           IA        Fecha Modificación            Fecha Resuelto Criticidad  \\\n",
              "0    0.000000  2024-01-11T19:00:01.214Z  2024-01-04T17:10:41.408Z       Baja   \n",
              "1  735.583333  2024-01-12T11:00:01.273Z  2024-01-05T09:37:58.174Z       Baja   \n",
              "2    8.833333  2024-01-09T15:00:00.563Z  2024-01-02T13:24:28.271Z       Baja   \n",
              "3   13.616667  2024-03-11T09:42:32.097Z  2024-01-08T10:46:09.116Z       Baja   \n",
              "4   63.566667  2024-07-23T15:43:56.906Z  2024-02-22T14:23:28.119Z       Baja   \n",
              "\n",
              "  Sub estado  SLA petición        Fecha de caducidad  \\\n",
              "0        NaN            48      2024-01-08T13:00:00Z   \n",
              "1        NaN            48  2024-01-09T06:36:26.849Z   \n",
              "2        NaN            48  2024-01-09T06:45:16.557Z   \n",
              "3        NaN            96  2024-01-15T14:58:53.171Z   \n",
              "4        NaN            48  2024-01-09T08:02:27.654Z   \n",
              "\n",
              "   Tiempo resolución (días)    SLA Usuario AD  \n",
              "0                  2.867943     Ok     EE9151  \n",
              "1                  3.042724     Ok    AMA0829  \n",
              "2                  0.193886     Ok     AC1234  \n",
              "3                  6.074490     Ok     PA7894  \n",
              "4                 51.181255  NO OK    AMA0787  "
            ]
          },
          "execution_count": 11,
          "metadata": {},
          "output_type": "execute_result"
        }
      ],
      "source": [
        "IA_datos.head(5)"
      ]
    },
    {
      "cell_type": "code",
      "execution_count": null,
      "metadata": {
        "colab": {
          "base_uri": "https://localhost:8080/",
          "height": 310
        },
        "id": "5Tr0j55vYK-g",
        "outputId": "1fe9d0ab-763f-4a83-8731-5be94737e176"
      },
      "outputs": [
        {
          "data": {
            "application/vnd.google.colaboratory.intrinsic+json": {
              "summary": "{\n  \"name\": \"TA_datos\",\n  \"rows\": 2201,\n  \"fields\": [\n    {\n      \"column\": \"Tipo\",\n      \"properties\": {\n        \"dtype\": \"category\",\n        \"num_unique_values\": 3,\n        \"samples\": [\n          \"Solicitud\",\n          \"Incidente\",\n          \"Incidente Mayor\"\n        ],\n        \"semantic_type\": \"\",\n        \"description\": \"\"\n      }\n    },\n    {\n      \"column\": \"Estado\",\n      \"properties\": {\n        \"dtype\": \"category\",\n        \"num_unique_values\": 2,\n        \"samples\": [\n          \"RESOLVED\",\n          \"CLOSED\"\n        ],\n        \"semantic_type\": \"\",\n        \"description\": \"\"\n      }\n    },\n    {\n      \"column\": \"Fecha de apertura\",\n      \"properties\": {\n        \"dtype\": \"string\",\n        \"num_unique_values\": 2201,\n        \"samples\": [\n          \"2024-03-27T11:09:37.382Z\",\n          \"2024-02-22T18:48:50.539Z\"\n        ],\n        \"semantic_type\": \"\",\n        \"description\": \"\"\n      }\n    },\n    {\n      \"column\": \"Fecha aprertura numero\",\n      \"properties\": {\n        \"dtype\": \"number\",\n        \"std\": 102942.25451350921,\n        \"min\": 65221700.85,\n        \"max\": 65585809.7,\n        \"num_unique_values\": 2201,\n        \"samples\": [\n          65344989.62,\n          65296488.83\n        ],\n        \"semantic_type\": \"\",\n        \"description\": \"\"\n      }\n    },\n    {\n      \"column\": \"Fecha Modificaci\\u00f3n\",\n      \"properties\": {\n        \"dtype\": \"string\",\n        \"num_unique_values\": 2201,\n        \"samples\": [\n          \"2024-07-31T10:50:08.526Z\",\n          \"2024-07-24T10:29:50.069Z\"\n        ],\n        \"semantic_type\": \"\",\n        \"description\": \"\"\n      }\n    },\n    {\n      \"column\": \"Fecha Resuelto\",\n      \"properties\": {\n        \"dtype\": \"string\",\n        \"num_unique_values\": 2201,\n        \"samples\": [\n          \"2024-04-05T09:18:12.812Z\",\n          \"2024-03-14T16:10:21.423Z\"\n        ],\n        \"semantic_type\": \"\",\n        \"description\": \"\"\n      }\n    },\n    {\n      \"column\": \"Fecha resulto Numero\",\n      \"properties\": {\n        \"dtype\": \"number\",\n        \"std\": 100560.44508695207,\n        \"min\": 65222571.02,\n        \"max\": 65585906.7,\n        \"num_unique_values\": 2201,\n        \"samples\": [\n          65357838.2,\n          65326570.35\n        ],\n        \"semantic_type\": \"\",\n        \"description\": \"\"\n      }\n    },\n    {\n      \"column\": \"TA\",\n      \"properties\": {\n        \"dtype\": \"number\",\n        \"std\": 2750.174334522972,\n        \"min\": 0.08333332837,\n        \"max\": 71964.93333,\n        \"num_unique_values\": 2023,\n        \"samples\": [\n          3978.016667,\n          1.649999991\n        ],\n        \"semantic_type\": \"\",\n        \"description\": \"\"\n      }\n    },\n    {\n      \"column\": \"Criticidad\",\n      \"properties\": {\n        \"dtype\": \"category\",\n        \"num_unique_values\": 4,\n        \"samples\": [\n          \"Media\",\n          \"Ninguna\"\n        ],\n        \"semantic_type\": \"\",\n        \"description\": \"\"\n      }\n    },\n    {\n      \"column\": \"SLA petici\\u00f3n\",\n      \"properties\": {\n        \"dtype\": \"number\",\n        \"std\": 23,\n        \"min\": 6,\n        \"max\": 96,\n        \"num_unique_values\": 5,\n        \"samples\": [\n          96,\n          12\n        ],\n        \"semantic_type\": \"\",\n        \"description\": \"\"\n      }\n    },\n    {\n      \"column\": \"Fecha de caducidad\",\n      \"properties\": {\n        \"dtype\": \"string\",\n        \"num_unique_values\": 2018,\n        \"samples\": [\n          \"2024-07-22T18:54:34.175Z\",\n          \"2024-03-21T05:30:15.914Z\"\n        ],\n        \"semantic_type\": \"\",\n        \"description\": \"\"\n      }\n    },\n    {\n      \"column\": \"Tiempo resoluci\\u00f3n (d\\u00edas)\",\n      \"properties\": {\n        \"dtype\": \"number\",\n        \"std\": 6.696045718066448,\n        \"min\": 0.0009289930555555555,\n        \"max\": 62.92241530092593,\n        \"num_unique_values\": 2201,\n        \"samples\": [\n          8.922632291666666,\n          20.889940787037037\n        ],\n        \"semantic_type\": \"\",\n        \"description\": \"\"\n      }\n    },\n    {\n      \"column\": \"SLA\",\n      \"properties\": {\n        \"dtype\": \"category\",\n        \"num_unique_values\": 2,\n        \"samples\": [\n          \"NO OK\",\n          \"Ok\"\n        ],\n        \"semantic_type\": \"\",\n        \"description\": \"\"\n      }\n    },\n    {\n      \"column\": \"Usuario AD\",\n      \"properties\": {\n        \"dtype\": \"category\",\n        \"num_unique_values\": 29,\n        \"samples\": [\n          \"AMA0787\",\n          \"AMA1730\"\n        ],\n        \"semantic_type\": \"\",\n        \"description\": \"\"\n      }\n    }\n  ]\n}",
              "type": "dataframe",
              "variable_name": "TA_datos"
            },
            "text/html": [
              "\n",
              "  <div id=\"df-0c88f6cd-bdeb-40ee-8da1-c886215c23f8\" class=\"colab-df-container\">\n",
              "    <div>\n",
              "<style scoped>\n",
              "    .dataframe tbody tr th:only-of-type {\n",
              "        vertical-align: middle;\n",
              "    }\n",
              "\n",
              "    .dataframe tbody tr th {\n",
              "        vertical-align: top;\n",
              "    }\n",
              "\n",
              "    .dataframe thead th {\n",
              "        text-align: right;\n",
              "    }\n",
              "</style>\n",
              "<table border=\"1\" class=\"dataframe\">\n",
              "  <thead>\n",
              "    <tr style=\"text-align: right;\">\n",
              "      <th></th>\n",
              "      <th>Tipo</th>\n",
              "      <th>Estado</th>\n",
              "      <th>Fecha de apertura</th>\n",
              "      <th>Fecha aprertura numero</th>\n",
              "      <th>Fecha Modificación</th>\n",
              "      <th>Fecha Resuelto</th>\n",
              "      <th>Fecha resulto Numero</th>\n",
              "      <th>TA</th>\n",
              "      <th>Criticidad</th>\n",
              "      <th>SLA petición</th>\n",
              "      <th>Fecha de caducidad</th>\n",
              "      <th>Tiempo resolución (días)</th>\n",
              "      <th>SLA</th>\n",
              "      <th>Usuario AD</th>\n",
              "    </tr>\n",
              "  </thead>\n",
              "  <tbody>\n",
              "    <tr>\n",
              "      <th>0</th>\n",
              "      <td>Solicitud</td>\n",
              "      <td>CLOSED</td>\n",
              "      <td>2024-01-02T10:24:55.898Z</td>\n",
              "      <td>65222544.92</td>\n",
              "      <td>2024-01-04T12:12:40.977Z</td>\n",
              "      <td>2024-01-02T10:51:01.156Z</td>\n",
              "      <td>65222571.02</td>\n",
              "      <td>26.100000</td>\n",
              "      <td>Baja</td>\n",
              "      <td>48</td>\n",
              "      <td>2024-01-09T08:24:55.898Z</td>\n",
              "      <td>0.018116</td>\n",
              "      <td>Ok</td>\n",
              "      <td>PA7894</td>\n",
              "    </tr>\n",
              "    <tr>\n",
              "      <th>1</th>\n",
              "      <td>Solicitud</td>\n",
              "      <td>CLOSED</td>\n",
              "      <td>2024-01-02T08:45:16.557Z</td>\n",
              "      <td>65222445.27</td>\n",
              "      <td>2024-01-09T15:00:00.563Z</td>\n",
              "      <td>2024-01-02T13:24:28.271Z</td>\n",
              "      <td>65222724.47</td>\n",
              "      <td>279.200000</td>\n",
              "      <td>Baja</td>\n",
              "      <td>48</td>\n",
              "      <td>2024-01-09T06:45:16.557Z</td>\n",
              "      <td>0.193886</td>\n",
              "      <td>Ok</td>\n",
              "      <td>AC1234</td>\n",
              "    </tr>\n",
              "    <tr>\n",
              "      <th>2</th>\n",
              "      <td>Solicitud</td>\n",
              "      <td>CLOSED</td>\n",
              "      <td>2024-01-02T12:26:57.91Z</td>\n",
              "      <td>65222666.95</td>\n",
              "      <td>2024-01-09T15:00:00.533Z</td>\n",
              "      <td>2024-01-02T13:42:35.727Z</td>\n",
              "      <td>65222742.58</td>\n",
              "      <td>18.116667</td>\n",
              "      <td>Baja</td>\n",
              "      <td>96</td>\n",
              "      <td>2024-01-16T08:26:57.91Z</td>\n",
              "      <td>0.052521</td>\n",
              "      <td>Ok</td>\n",
              "      <td>AC1234</td>\n",
              "    </tr>\n",
              "    <tr>\n",
              "      <th>3</th>\n",
              "      <td>Solicitud</td>\n",
              "      <td>CLOSED</td>\n",
              "      <td>2024-01-02T13:07:53.095Z</td>\n",
              "      <td>65222707.88</td>\n",
              "      <td>2024-01-09T17:00:01.011Z</td>\n",
              "      <td>2024-01-02T15:58:19.125Z</td>\n",
              "      <td>65222878.32</td>\n",
              "      <td>170.433333</td>\n",
              "      <td>Baja</td>\n",
              "      <td>48</td>\n",
              "      <td>2024-01-09T11:07:53.095Z</td>\n",
              "      <td>0.118357</td>\n",
              "      <td>Ok</td>\n",
              "      <td>IF8520</td>\n",
              "    </tr>\n",
              "    <tr>\n",
              "      <th>4</th>\n",
              "      <td>Incidente</td>\n",
              "      <td>CLOSED</td>\n",
              "      <td>2024-01-03T12:21:48.26Z</td>\n",
              "      <td>65224101.80</td>\n",
              "      <td>2024-01-10T15:00:01.366Z</td>\n",
              "      <td>2024-01-03T14:55:17.136Z</td>\n",
              "      <td>65224255.28</td>\n",
              "      <td>153.483333</td>\n",
              "      <td>Media</td>\n",
              "      <td>96</td>\n",
              "      <td>2024-01-17T08:21:48.26Z</td>\n",
              "      <td>0.106584</td>\n",
              "      <td>Ok</td>\n",
              "      <td>PA7894</td>\n",
              "    </tr>\n",
              "  </tbody>\n",
              "</table>\n",
              "</div>\n",
              "    <div class=\"colab-df-buttons\">\n",
              "\n",
              "  <div class=\"colab-df-container\">\n",
              "    <button class=\"colab-df-convert\" onclick=\"convertToInteractive('df-0c88f6cd-bdeb-40ee-8da1-c886215c23f8')\"\n",
              "            title=\"Convert this dataframe to an interactive table.\"\n",
              "            style=\"display:none;\">\n",
              "\n",
              "  <svg xmlns=\"http://www.w3.org/2000/svg\" height=\"24px\" viewBox=\"0 -960 960 960\">\n",
              "    <path d=\"M120-120v-720h720v720H120Zm60-500h600v-160H180v160Zm220 220h160v-160H400v160Zm0 220h160v-160H400v160ZM180-400h160v-160H180v160Zm440 0h160v-160H620v160ZM180-180h160v-160H180v160Zm440 0h160v-160H620v160Z\"/>\n",
              "  </svg>\n",
              "    </button>\n",
              "\n",
              "  <style>\n",
              "    .colab-df-container {\n",
              "      display:flex;\n",
              "      gap: 12px;\n",
              "    }\n",
              "\n",
              "    .colab-df-convert {\n",
              "      background-color: #E8F0FE;\n",
              "      border: none;\n",
              "      border-radius: 50%;\n",
              "      cursor: pointer;\n",
              "      display: none;\n",
              "      fill: #1967D2;\n",
              "      height: 32px;\n",
              "      padding: 0 0 0 0;\n",
              "      width: 32px;\n",
              "    }\n",
              "\n",
              "    .colab-df-convert:hover {\n",
              "      background-color: #E2EBFA;\n",
              "      box-shadow: 0px 1px 2px rgba(60, 64, 67, 0.3), 0px 1px 3px 1px rgba(60, 64, 67, 0.15);\n",
              "      fill: #174EA6;\n",
              "    }\n",
              "\n",
              "    .colab-df-buttons div {\n",
              "      margin-bottom: 4px;\n",
              "    }\n",
              "\n",
              "    [theme=dark] .colab-df-convert {\n",
              "      background-color: #3B4455;\n",
              "      fill: #D2E3FC;\n",
              "    }\n",
              "\n",
              "    [theme=dark] .colab-df-convert:hover {\n",
              "      background-color: #434B5C;\n",
              "      box-shadow: 0px 1px 3px 1px rgba(0, 0, 0, 0.15);\n",
              "      filter: drop-shadow(0px 1px 2px rgba(0, 0, 0, 0.3));\n",
              "      fill: #FFFFFF;\n",
              "    }\n",
              "  </style>\n",
              "\n",
              "    <script>\n",
              "      const buttonEl =\n",
              "        document.querySelector('#df-0c88f6cd-bdeb-40ee-8da1-c886215c23f8 button.colab-df-convert');\n",
              "      buttonEl.style.display =\n",
              "        google.colab.kernel.accessAllowed ? 'block' : 'none';\n",
              "\n",
              "      async function convertToInteractive(key) {\n",
              "        const element = document.querySelector('#df-0c88f6cd-bdeb-40ee-8da1-c886215c23f8');\n",
              "        const dataTable =\n",
              "          await google.colab.kernel.invokeFunction('convertToInteractive',\n",
              "                                                    [key], {});\n",
              "        if (!dataTable) return;\n",
              "\n",
              "        const docLinkHtml = 'Like what you see? Visit the ' +\n",
              "          '<a target=\"_blank\" href=https://colab.research.google.com/notebooks/data_table.ipynb>data table notebook</a>'\n",
              "          + ' to learn more about interactive tables.';\n",
              "        element.innerHTML = '';\n",
              "        dataTable['output_type'] = 'display_data';\n",
              "        await google.colab.output.renderOutput(dataTable, element);\n",
              "        const docLink = document.createElement('div');\n",
              "        docLink.innerHTML = docLinkHtml;\n",
              "        element.appendChild(docLink);\n",
              "      }\n",
              "    </script>\n",
              "  </div>\n",
              "\n",
              "\n",
              "<div id=\"df-abfe983a-d973-4904-a5af-157a80e5b8c6\">\n",
              "  <button class=\"colab-df-quickchart\" onclick=\"quickchart('df-abfe983a-d973-4904-a5af-157a80e5b8c6')\"\n",
              "            title=\"Suggest charts\"\n",
              "            style=\"display:none;\">\n",
              "\n",
              "<svg xmlns=\"http://www.w3.org/2000/svg\" height=\"24px\"viewBox=\"0 0 24 24\"\n",
              "     width=\"24px\">\n",
              "    <g>\n",
              "        <path d=\"M19 3H5c-1.1 0-2 .9-2 2v14c0 1.1.9 2 2 2h14c1.1 0 2-.9 2-2V5c0-1.1-.9-2-2-2zM9 17H7v-7h2v7zm4 0h-2V7h2v10zm4 0h-2v-4h2v4z\"/>\n",
              "    </g>\n",
              "</svg>\n",
              "  </button>\n",
              "\n",
              "<style>\n",
              "  .colab-df-quickchart {\n",
              "      --bg-color: #E8F0FE;\n",
              "      --fill-color: #1967D2;\n",
              "      --hover-bg-color: #E2EBFA;\n",
              "      --hover-fill-color: #174EA6;\n",
              "      --disabled-fill-color: #AAA;\n",
              "      --disabled-bg-color: #DDD;\n",
              "  }\n",
              "\n",
              "  [theme=dark] .colab-df-quickchart {\n",
              "      --bg-color: #3B4455;\n",
              "      --fill-color: #D2E3FC;\n",
              "      --hover-bg-color: #434B5C;\n",
              "      --hover-fill-color: #FFFFFF;\n",
              "      --disabled-bg-color: #3B4455;\n",
              "      --disabled-fill-color: #666;\n",
              "  }\n",
              "\n",
              "  .colab-df-quickchart {\n",
              "    background-color: var(--bg-color);\n",
              "    border: none;\n",
              "    border-radius: 50%;\n",
              "    cursor: pointer;\n",
              "    display: none;\n",
              "    fill: var(--fill-color);\n",
              "    height: 32px;\n",
              "    padding: 0;\n",
              "    width: 32px;\n",
              "  }\n",
              "\n",
              "  .colab-df-quickchart:hover {\n",
              "    background-color: var(--hover-bg-color);\n",
              "    box-shadow: 0 1px 2px rgba(60, 64, 67, 0.3), 0 1px 3px 1px rgba(60, 64, 67, 0.15);\n",
              "    fill: var(--button-hover-fill-color);\n",
              "  }\n",
              "\n",
              "  .colab-df-quickchart-complete:disabled,\n",
              "  .colab-df-quickchart-complete:disabled:hover {\n",
              "    background-color: var(--disabled-bg-color);\n",
              "    fill: var(--disabled-fill-color);\n",
              "    box-shadow: none;\n",
              "  }\n",
              "\n",
              "  .colab-df-spinner {\n",
              "    border: 2px solid var(--fill-color);\n",
              "    border-color: transparent;\n",
              "    border-bottom-color: var(--fill-color);\n",
              "    animation:\n",
              "      spin 1s steps(1) infinite;\n",
              "  }\n",
              "\n",
              "  @keyframes spin {\n",
              "    0% {\n",
              "      border-color: transparent;\n",
              "      border-bottom-color: var(--fill-color);\n",
              "      border-left-color: var(--fill-color);\n",
              "    }\n",
              "    20% {\n",
              "      border-color: transparent;\n",
              "      border-left-color: var(--fill-color);\n",
              "      border-top-color: var(--fill-color);\n",
              "    }\n",
              "    30% {\n",
              "      border-color: transparent;\n",
              "      border-left-color: var(--fill-color);\n",
              "      border-top-color: var(--fill-color);\n",
              "      border-right-color: var(--fill-color);\n",
              "    }\n",
              "    40% {\n",
              "      border-color: transparent;\n",
              "      border-right-color: var(--fill-color);\n",
              "      border-top-color: var(--fill-color);\n",
              "    }\n",
              "    60% {\n",
              "      border-color: transparent;\n",
              "      border-right-color: var(--fill-color);\n",
              "    }\n",
              "    80% {\n",
              "      border-color: transparent;\n",
              "      border-right-color: var(--fill-color);\n",
              "      border-bottom-color: var(--fill-color);\n",
              "    }\n",
              "    90% {\n",
              "      border-color: transparent;\n",
              "      border-bottom-color: var(--fill-color);\n",
              "    }\n",
              "  }\n",
              "</style>\n",
              "\n",
              "  <script>\n",
              "    async function quickchart(key) {\n",
              "      const quickchartButtonEl =\n",
              "        document.querySelector('#' + key + ' button');\n",
              "      quickchartButtonEl.disabled = true;  // To prevent multiple clicks.\n",
              "      quickchartButtonEl.classList.add('colab-df-spinner');\n",
              "      try {\n",
              "        const charts = await google.colab.kernel.invokeFunction(\n",
              "            'suggestCharts', [key], {});\n",
              "      } catch (error) {\n",
              "        console.error('Error during call to suggestCharts:', error);\n",
              "      }\n",
              "      quickchartButtonEl.classList.remove('colab-df-spinner');\n",
              "      quickchartButtonEl.classList.add('colab-df-quickchart-complete');\n",
              "    }\n",
              "    (() => {\n",
              "      let quickchartButtonEl =\n",
              "        document.querySelector('#df-abfe983a-d973-4904-a5af-157a80e5b8c6 button');\n",
              "      quickchartButtonEl.style.display =\n",
              "        google.colab.kernel.accessAllowed ? 'block' : 'none';\n",
              "    })();\n",
              "  </script>\n",
              "</div>\n",
              "\n",
              "    </div>\n",
              "  </div>\n"
            ],
            "text/plain": [
              "        Tipo  Estado         Fecha de apertura  Fecha aprertura numero  \\\n",
              "0  Solicitud  CLOSED  2024-01-02T10:24:55.898Z             65222544.92   \n",
              "1  Solicitud  CLOSED  2024-01-02T08:45:16.557Z             65222445.27   \n",
              "2  Solicitud  CLOSED   2024-01-02T12:26:57.91Z             65222666.95   \n",
              "3  Solicitud  CLOSED  2024-01-02T13:07:53.095Z             65222707.88   \n",
              "4  Incidente  CLOSED   2024-01-03T12:21:48.26Z             65224101.80   \n",
              "\n",
              "         Fecha Modificación            Fecha Resuelto  Fecha resulto Numero  \\\n",
              "0  2024-01-04T12:12:40.977Z  2024-01-02T10:51:01.156Z           65222571.02   \n",
              "1  2024-01-09T15:00:00.563Z  2024-01-02T13:24:28.271Z           65222724.47   \n",
              "2  2024-01-09T15:00:00.533Z  2024-01-02T13:42:35.727Z           65222742.58   \n",
              "3  2024-01-09T17:00:01.011Z  2024-01-02T15:58:19.125Z           65222878.32   \n",
              "4  2024-01-10T15:00:01.366Z  2024-01-03T14:55:17.136Z           65224255.28   \n",
              "\n",
              "           TA Criticidad  SLA petición        Fecha de caducidad  \\\n",
              "0   26.100000       Baja            48  2024-01-09T08:24:55.898Z   \n",
              "1  279.200000       Baja            48  2024-01-09T06:45:16.557Z   \n",
              "2   18.116667       Baja            96   2024-01-16T08:26:57.91Z   \n",
              "3  170.433333       Baja            48  2024-01-09T11:07:53.095Z   \n",
              "4  153.483333      Media            96   2024-01-17T08:21:48.26Z   \n",
              "\n",
              "   Tiempo resolución (días) SLA Usuario AD  \n",
              "0                  0.018116  Ok     PA7894  \n",
              "1                  0.193886  Ok     AC1234  \n",
              "2                  0.052521  Ok     AC1234  \n",
              "3                  0.118357  Ok     IF8520  \n",
              "4                  0.106584  Ok     PA7894  "
            ]
          },
          "execution_count": 12,
          "metadata": {},
          "output_type": "execute_result"
        }
      ],
      "source": [
        "TA_datos.head(5)"
      ]
    },
    {
      "cell_type": "markdown",
      "metadata": {
        "id": "g4gdD-n5GQ4T"
      },
      "source": [
        "### Tipos de datos\n"
      ]
    },
    {
      "cell_type": "code",
      "execution_count": null,
      "metadata": {
        "colab": {
          "base_uri": "https://localhost:8080/",
          "height": 523
        },
        "id": "J9wxujfI_6iK",
        "outputId": "afa1ef6a-a2f3-408f-c446-427005ac270b"
      },
      "outputs": [
        {
          "data": {
            "text/html": [
              "<div>\n",
              "<style scoped>\n",
              "    .dataframe tbody tr th:only-of-type {\n",
              "        vertical-align: middle;\n",
              "    }\n",
              "\n",
              "    .dataframe tbody tr th {\n",
              "        vertical-align: top;\n",
              "    }\n",
              "\n",
              "    .dataframe thead th {\n",
              "        text-align: right;\n",
              "    }\n",
              "</style>\n",
              "<table border=\"1\" class=\"dataframe\">\n",
              "  <thead>\n",
              "    <tr style=\"text-align: right;\">\n",
              "      <th></th>\n",
              "      <th>0</th>\n",
              "    </tr>\n",
              "  </thead>\n",
              "  <tbody>\n",
              "    <tr>\n",
              "      <th>Tipo</th>\n",
              "      <td>object</td>\n",
              "    </tr>\n",
              "    <tr>\n",
              "      <th>Estado</th>\n",
              "      <td>object</td>\n",
              "    </tr>\n",
              "    <tr>\n",
              "      <th>Fecha de apertura</th>\n",
              "      <td>object</td>\n",
              "    </tr>\n",
              "    <tr>\n",
              "      <th>Fecha aprertura numero</th>\n",
              "      <td>float64</td>\n",
              "    </tr>\n",
              "    <tr>\n",
              "      <th>IA</th>\n",
              "      <td>float64</td>\n",
              "    </tr>\n",
              "    <tr>\n",
              "      <th>Fecha Modificación</th>\n",
              "      <td>object</td>\n",
              "    </tr>\n",
              "    <tr>\n",
              "      <th>Fecha Resuelto</th>\n",
              "      <td>object</td>\n",
              "    </tr>\n",
              "    <tr>\n",
              "      <th>Criticidad</th>\n",
              "      <td>object</td>\n",
              "    </tr>\n",
              "    <tr>\n",
              "      <th>Sub estado</th>\n",
              "      <td>object</td>\n",
              "    </tr>\n",
              "    <tr>\n",
              "      <th>SLA petición</th>\n",
              "      <td>int64</td>\n",
              "    </tr>\n",
              "    <tr>\n",
              "      <th>Fecha de caducidad</th>\n",
              "      <td>object</td>\n",
              "    </tr>\n",
              "    <tr>\n",
              "      <th>Tiempo resolución (días)</th>\n",
              "      <td>float64</td>\n",
              "    </tr>\n",
              "    <tr>\n",
              "      <th>SLA</th>\n",
              "      <td>object</td>\n",
              "    </tr>\n",
              "    <tr>\n",
              "      <th>Usuario AD</th>\n",
              "      <td>object</td>\n",
              "    </tr>\n",
              "  </tbody>\n",
              "</table>\n",
              "</div><br><label><b>dtype:</b> object</label>"
            ],
            "text/plain": [
              "Tipo                         object\n",
              "Estado                       object\n",
              "Fecha de apertura            object\n",
              "Fecha aprertura numero      float64\n",
              "IA                          float64\n",
              "Fecha Modificación           object\n",
              "Fecha Resuelto               object\n",
              "Criticidad                   object\n",
              "Sub estado                   object\n",
              "SLA petición                  int64\n",
              "Fecha de caducidad           object\n",
              "Tiempo resolución (días)    float64\n",
              "SLA                          object\n",
              "Usuario AD                   object\n",
              "dtype: object"
            ]
          },
          "execution_count": 13,
          "metadata": {},
          "output_type": "execute_result"
        }
      ],
      "source": [
        "IA_datos.dtypes"
      ]
    },
    {
      "cell_type": "code",
      "execution_count": null,
      "metadata": {
        "colab": {
          "base_uri": "https://localhost:8080/",
          "height": 523
        },
        "id": "5LNF10R6YYDA",
        "outputId": "4655fc1b-de53-4fe7-afeb-ee3ce31ce220"
      },
      "outputs": [
        {
          "data": {
            "text/html": [
              "<div>\n",
              "<style scoped>\n",
              "    .dataframe tbody tr th:only-of-type {\n",
              "        vertical-align: middle;\n",
              "    }\n",
              "\n",
              "    .dataframe tbody tr th {\n",
              "        vertical-align: top;\n",
              "    }\n",
              "\n",
              "    .dataframe thead th {\n",
              "        text-align: right;\n",
              "    }\n",
              "</style>\n",
              "<table border=\"1\" class=\"dataframe\">\n",
              "  <thead>\n",
              "    <tr style=\"text-align: right;\">\n",
              "      <th></th>\n",
              "      <th>0</th>\n",
              "    </tr>\n",
              "  </thead>\n",
              "  <tbody>\n",
              "    <tr>\n",
              "      <th>Tipo</th>\n",
              "      <td>object</td>\n",
              "    </tr>\n",
              "    <tr>\n",
              "      <th>Estado</th>\n",
              "      <td>object</td>\n",
              "    </tr>\n",
              "    <tr>\n",
              "      <th>Fecha de apertura</th>\n",
              "      <td>object</td>\n",
              "    </tr>\n",
              "    <tr>\n",
              "      <th>Fecha aprertura numero</th>\n",
              "      <td>float64</td>\n",
              "    </tr>\n",
              "    <tr>\n",
              "      <th>Fecha Modificación</th>\n",
              "      <td>object</td>\n",
              "    </tr>\n",
              "    <tr>\n",
              "      <th>Fecha Resuelto</th>\n",
              "      <td>object</td>\n",
              "    </tr>\n",
              "    <tr>\n",
              "      <th>Fecha resulto Numero</th>\n",
              "      <td>float64</td>\n",
              "    </tr>\n",
              "    <tr>\n",
              "      <th>TA</th>\n",
              "      <td>float64</td>\n",
              "    </tr>\n",
              "    <tr>\n",
              "      <th>Criticidad</th>\n",
              "      <td>object</td>\n",
              "    </tr>\n",
              "    <tr>\n",
              "      <th>SLA petición</th>\n",
              "      <td>int64</td>\n",
              "    </tr>\n",
              "    <tr>\n",
              "      <th>Fecha de caducidad</th>\n",
              "      <td>object</td>\n",
              "    </tr>\n",
              "    <tr>\n",
              "      <th>Tiempo resolución (días)</th>\n",
              "      <td>float64</td>\n",
              "    </tr>\n",
              "    <tr>\n",
              "      <th>SLA</th>\n",
              "      <td>object</td>\n",
              "    </tr>\n",
              "    <tr>\n",
              "      <th>Usuario AD</th>\n",
              "      <td>object</td>\n",
              "    </tr>\n",
              "  </tbody>\n",
              "</table>\n",
              "</div><br><label><b>dtype:</b> object</label>"
            ],
            "text/plain": [
              "Tipo                         object\n",
              "Estado                       object\n",
              "Fecha de apertura            object\n",
              "Fecha aprertura numero      float64\n",
              "Fecha Modificación           object\n",
              "Fecha Resuelto               object\n",
              "Fecha resulto Numero        float64\n",
              "TA                          float64\n",
              "Criticidad                   object\n",
              "SLA petición                  int64\n",
              "Fecha de caducidad           object\n",
              "Tiempo resolución (días)    float64\n",
              "SLA                          object\n",
              "Usuario AD                   object\n",
              "dtype: object"
            ]
          },
          "execution_count": 14,
          "metadata": {},
          "output_type": "execute_result"
        }
      ],
      "source": [
        "TA_datos.dtypes"
      ]
    },
    {
      "cell_type": "markdown",
      "metadata": {
        "id": "n8cNw7DEkCse"
      },
      "source": [
        "### Inspección de datos nulos"
      ]
    },
    {
      "cell_type": "code",
      "execution_count": null,
      "metadata": {
        "colab": {
          "base_uri": "https://localhost:8080/",
          "height": 523
        },
        "id": "oEeOxtXujofy",
        "outputId": "8a937a24-10d8-4f99-90b7-f4e06ded3ff4"
      },
      "outputs": [
        {
          "data": {
            "text/html": [
              "<div>\n",
              "<style scoped>\n",
              "    .dataframe tbody tr th:only-of-type {\n",
              "        vertical-align: middle;\n",
              "    }\n",
              "\n",
              "    .dataframe tbody tr th {\n",
              "        vertical-align: top;\n",
              "    }\n",
              "\n",
              "    .dataframe thead th {\n",
              "        text-align: right;\n",
              "    }\n",
              "</style>\n",
              "<table border=\"1\" class=\"dataframe\">\n",
              "  <thead>\n",
              "    <tr style=\"text-align: right;\">\n",
              "      <th></th>\n",
              "      <th>0</th>\n",
              "    </tr>\n",
              "  </thead>\n",
              "  <tbody>\n",
              "    <tr>\n",
              "      <th>Tipo</th>\n",
              "      <td>0</td>\n",
              "    </tr>\n",
              "    <tr>\n",
              "      <th>Estado</th>\n",
              "      <td>0</td>\n",
              "    </tr>\n",
              "    <tr>\n",
              "      <th>Fecha de apertura</th>\n",
              "      <td>0</td>\n",
              "    </tr>\n",
              "    <tr>\n",
              "      <th>Fecha aprertura numero</th>\n",
              "      <td>0</td>\n",
              "    </tr>\n",
              "    <tr>\n",
              "      <th>Fecha Modificación</th>\n",
              "      <td>0</td>\n",
              "    </tr>\n",
              "    <tr>\n",
              "      <th>Fecha Resuelto</th>\n",
              "      <td>0</td>\n",
              "    </tr>\n",
              "    <tr>\n",
              "      <th>Fecha resulto Numero</th>\n",
              "      <td>0</td>\n",
              "    </tr>\n",
              "    <tr>\n",
              "      <th>TA</th>\n",
              "      <td>0</td>\n",
              "    </tr>\n",
              "    <tr>\n",
              "      <th>Criticidad</th>\n",
              "      <td>0</td>\n",
              "    </tr>\n",
              "    <tr>\n",
              "      <th>SLA petición</th>\n",
              "      <td>0</td>\n",
              "    </tr>\n",
              "    <tr>\n",
              "      <th>Fecha de caducidad</th>\n",
              "      <td>0</td>\n",
              "    </tr>\n",
              "    <tr>\n",
              "      <th>Tiempo resolución (días)</th>\n",
              "      <td>0</td>\n",
              "    </tr>\n",
              "    <tr>\n",
              "      <th>SLA</th>\n",
              "      <td>0</td>\n",
              "    </tr>\n",
              "    <tr>\n",
              "      <th>Usuario AD</th>\n",
              "      <td>0</td>\n",
              "    </tr>\n",
              "  </tbody>\n",
              "</table>\n",
              "</div><br><label><b>dtype:</b> int64</label>"
            ],
            "text/plain": [
              "Tipo                        0\n",
              "Estado                      0\n",
              "Fecha de apertura           0\n",
              "Fecha aprertura numero      0\n",
              "Fecha Modificación          0\n",
              "Fecha Resuelto              0\n",
              "Fecha resulto Numero        0\n",
              "TA                          0\n",
              "Criticidad                  0\n",
              "SLA petición                0\n",
              "Fecha de caducidad          0\n",
              "Tiempo resolución (días)    0\n",
              "SLA                         0\n",
              "Usuario AD                  0\n",
              "dtype: int64"
            ]
          },
          "execution_count": 15,
          "metadata": {},
          "output_type": "execute_result"
        }
      ],
      "source": [
        "TA_datos.isnull().sum()"
      ]
    },
    {
      "cell_type": "code",
      "execution_count": null,
      "metadata": {
        "colab": {
          "base_uri": "https://localhost:8080/",
          "height": 523
        },
        "id": "-ov1SgAnYfto",
        "outputId": "df31389b-2abb-4c22-dace-4fe159ab5975"
      },
      "outputs": [
        {
          "data": {
            "text/html": [
              "<div>\n",
              "<style scoped>\n",
              "    .dataframe tbody tr th:only-of-type {\n",
              "        vertical-align: middle;\n",
              "    }\n",
              "\n",
              "    .dataframe tbody tr th {\n",
              "        vertical-align: top;\n",
              "    }\n",
              "\n",
              "    .dataframe thead th {\n",
              "        text-align: right;\n",
              "    }\n",
              "</style>\n",
              "<table border=\"1\" class=\"dataframe\">\n",
              "  <thead>\n",
              "    <tr style=\"text-align: right;\">\n",
              "      <th></th>\n",
              "      <th>0</th>\n",
              "    </tr>\n",
              "  </thead>\n",
              "  <tbody>\n",
              "    <tr>\n",
              "      <th>Tipo</th>\n",
              "      <td>0</td>\n",
              "    </tr>\n",
              "    <tr>\n",
              "      <th>Estado</th>\n",
              "      <td>0</td>\n",
              "    </tr>\n",
              "    <tr>\n",
              "      <th>Fecha de apertura</th>\n",
              "      <td>0</td>\n",
              "    </tr>\n",
              "    <tr>\n",
              "      <th>Fecha aprertura numero</th>\n",
              "      <td>0</td>\n",
              "    </tr>\n",
              "    <tr>\n",
              "      <th>IA</th>\n",
              "      <td>0</td>\n",
              "    </tr>\n",
              "    <tr>\n",
              "      <th>Fecha Modificación</th>\n",
              "      <td>0</td>\n",
              "    </tr>\n",
              "    <tr>\n",
              "      <th>Fecha Resuelto</th>\n",
              "      <td>46</td>\n",
              "    </tr>\n",
              "    <tr>\n",
              "      <th>Criticidad</th>\n",
              "      <td>0</td>\n",
              "    </tr>\n",
              "    <tr>\n",
              "      <th>Sub estado</th>\n",
              "      <td>2216</td>\n",
              "    </tr>\n",
              "    <tr>\n",
              "      <th>SLA petición</th>\n",
              "      <td>0</td>\n",
              "    </tr>\n",
              "    <tr>\n",
              "      <th>Fecha de caducidad</th>\n",
              "      <td>0</td>\n",
              "    </tr>\n",
              "    <tr>\n",
              "      <th>Tiempo resolución (días)</th>\n",
              "      <td>46</td>\n",
              "    </tr>\n",
              "    <tr>\n",
              "      <th>SLA</th>\n",
              "      <td>0</td>\n",
              "    </tr>\n",
              "    <tr>\n",
              "      <th>Usuario AD</th>\n",
              "      <td>18</td>\n",
              "    </tr>\n",
              "  </tbody>\n",
              "</table>\n",
              "</div><br><label><b>dtype:</b> int64</label>"
            ],
            "text/plain": [
              "Tipo                           0\n",
              "Estado                         0\n",
              "Fecha de apertura              0\n",
              "Fecha aprertura numero         0\n",
              "IA                             0\n",
              "Fecha Modificación             0\n",
              "Fecha Resuelto                46\n",
              "Criticidad                     0\n",
              "Sub estado                  2216\n",
              "SLA petición                   0\n",
              "Fecha de caducidad             0\n",
              "Tiempo resolución (días)      46\n",
              "SLA                            0\n",
              "Usuario AD                    18\n",
              "dtype: int64"
            ]
          },
          "execution_count": 16,
          "metadata": {},
          "output_type": "execute_result"
        }
      ],
      "source": [
        "IA_datos.isnull().sum()"
      ]
    },
    {
      "cell_type": "markdown",
      "metadata": {
        "id": "3tKru_pQhbXk"
      },
      "source": [
        "### Acceso a datos\n",
        "\n"
      ]
    },
    {
      "cell_type": "code",
      "execution_count": null,
      "metadata": {
        "colab": {
          "base_uri": "https://localhost:8080/",
          "height": 458
        },
        "id": "PcuVoMBIhHg8",
        "outputId": "fa86269b-1236-42a7-c38e-38647f5103b6"
      },
      "outputs": [
        {
          "data": {
            "text/html": [
              "<div>\n",
              "<style scoped>\n",
              "    .dataframe tbody tr th:only-of-type {\n",
              "        vertical-align: middle;\n",
              "    }\n",
              "\n",
              "    .dataframe tbody tr th {\n",
              "        vertical-align: top;\n",
              "    }\n",
              "\n",
              "    .dataframe thead th {\n",
              "        text-align: right;\n",
              "    }\n",
              "</style>\n",
              "<table border=\"1\" class=\"dataframe\">\n",
              "  <thead>\n",
              "    <tr style=\"text-align: right;\">\n",
              "      <th></th>\n",
              "      <th>IA</th>\n",
              "    </tr>\n",
              "  </thead>\n",
              "  <tbody>\n",
              "    <tr>\n",
              "      <th>0</th>\n",
              "      <td>0.000000</td>\n",
              "    </tr>\n",
              "    <tr>\n",
              "      <th>1</th>\n",
              "      <td>735.583333</td>\n",
              "    </tr>\n",
              "    <tr>\n",
              "      <th>2</th>\n",
              "      <td>8.833333</td>\n",
              "    </tr>\n",
              "    <tr>\n",
              "      <th>3</th>\n",
              "      <td>13.616667</td>\n",
              "    </tr>\n",
              "    <tr>\n",
              "      <th>4</th>\n",
              "      <td>63.566667</td>\n",
              "    </tr>\n",
              "    <tr>\n",
              "      <th>...</th>\n",
              "      <td>...</td>\n",
              "    </tr>\n",
              "    <tr>\n",
              "      <th>2242</th>\n",
              "      <td>32.383333</td>\n",
              "    </tr>\n",
              "    <tr>\n",
              "      <th>2243</th>\n",
              "      <td>29.733333</td>\n",
              "    </tr>\n",
              "    <tr>\n",
              "      <th>2244</th>\n",
              "      <td>0.250000</td>\n",
              "    </tr>\n",
              "    <tr>\n",
              "      <th>2245</th>\n",
              "      <td>21.816667</td>\n",
              "    </tr>\n",
              "    <tr>\n",
              "      <th>2246</th>\n",
              "      <td>4.583333</td>\n",
              "    </tr>\n",
              "  </tbody>\n",
              "</table>\n",
              "<p>2247 rows × 1 columns</p>\n",
              "</div><br><label><b>dtype:</b> float64</label>"
            ],
            "text/plain": [
              "0         0.000000\n",
              "1       735.583333\n",
              "2         8.833333\n",
              "3        13.616667\n",
              "4        63.566667\n",
              "           ...    \n",
              "2242     32.383333\n",
              "2243     29.733333\n",
              "2244      0.250000\n",
              "2245     21.816667\n",
              "2246      4.583333\n",
              "Name: IA, Length: 2247, dtype: float64"
            ]
          },
          "execution_count": 17,
          "metadata": {},
          "output_type": "execute_result"
        }
      ],
      "source": [
        "IA_datos['IA']"
      ]
    },
    {
      "cell_type": "code",
      "execution_count": null,
      "metadata": {
        "colab": {
          "base_uri": "https://localhost:8080/",
          "height": 458
        },
        "id": "NfWnjWSUiTQK",
        "outputId": "84757668-875f-442b-fb45-8d3681a1645f"
      },
      "outputs": [
        {
          "data": {
            "text/html": [
              "<div>\n",
              "<style scoped>\n",
              "    .dataframe tbody tr th:only-of-type {\n",
              "        vertical-align: middle;\n",
              "    }\n",
              "\n",
              "    .dataframe tbody tr th {\n",
              "        vertical-align: top;\n",
              "    }\n",
              "\n",
              "    .dataframe thead th {\n",
              "        text-align: right;\n",
              "    }\n",
              "</style>\n",
              "<table border=\"1\" class=\"dataframe\">\n",
              "  <thead>\n",
              "    <tr style=\"text-align: right;\">\n",
              "      <th></th>\n",
              "      <th>TA</th>\n",
              "    </tr>\n",
              "  </thead>\n",
              "  <tbody>\n",
              "    <tr>\n",
              "      <th>0</th>\n",
              "      <td>26.100000</td>\n",
              "    </tr>\n",
              "    <tr>\n",
              "      <th>1</th>\n",
              "      <td>279.200000</td>\n",
              "    </tr>\n",
              "    <tr>\n",
              "      <th>2</th>\n",
              "      <td>18.116667</td>\n",
              "    </tr>\n",
              "    <tr>\n",
              "      <th>3</th>\n",
              "      <td>170.433333</td>\n",
              "    </tr>\n",
              "    <tr>\n",
              "      <th>4</th>\n",
              "      <td>153.483333</td>\n",
              "    </tr>\n",
              "    <tr>\n",
              "      <th>...</th>\n",
              "      <td>...</td>\n",
              "    </tr>\n",
              "    <tr>\n",
              "      <th>2196</th>\n",
              "      <td>244.066667</td>\n",
              "    </tr>\n",
              "    <tr>\n",
              "      <th>2197</th>\n",
              "      <td>0.216667</td>\n",
              "    </tr>\n",
              "    <tr>\n",
              "      <th>2198</th>\n",
              "      <td>0.400000</td>\n",
              "    </tr>\n",
              "    <tr>\n",
              "      <th>2199</th>\n",
              "      <td>0.600000</td>\n",
              "    </tr>\n",
              "    <tr>\n",
              "      <th>2200</th>\n",
              "      <td>80.983333</td>\n",
              "    </tr>\n",
              "  </tbody>\n",
              "</table>\n",
              "<p>2201 rows × 1 columns</p>\n",
              "</div><br><label><b>dtype:</b> float64</label>"
            ],
            "text/plain": [
              "0        26.100000\n",
              "1       279.200000\n",
              "2        18.116667\n",
              "3       170.433333\n",
              "4       153.483333\n",
              "           ...    \n",
              "2196    244.066667\n",
              "2197      0.216667\n",
              "2198      0.400000\n",
              "2199      0.600000\n",
              "2200     80.983333\n",
              "Name: TA, Length: 2201, dtype: float64"
            ]
          },
          "execution_count": 18,
          "metadata": {},
          "output_type": "execute_result"
        }
      ],
      "source": [
        "TA_datos['TA']"
      ]
    },
    {
      "cell_type": "markdown",
      "metadata": {
        "id": "Mix43al9Ht4c"
      },
      "source": [
        "##Visualización de Datos"
      ]
    },
    {
      "cell_type": "code",
      "execution_count": null,
      "metadata": {
        "colab": {
          "base_uri": "https://localhost:8080/",
          "height": 472
        },
        "id": "4YN8KJp-wemt",
        "outputId": "94bf6dbe-8e42-4c6a-d555-7c13ce2a0a86"
      },
      "outputs": [
        {
          "data": {
            "image/png": "[encoded data removed]",
            "text/plain": [
              "<Figure size 640x480 with 1 Axes>"
            ]
          },
          "metadata": {},
          "output_type": "display_data"
        }
      ],
      "source": [
        "# Histograma de Tiempo de atencion\n",
        "plt.title(\"Histograma\")\n",
        "plt.xlabel(\"Tiempo de atencion\")\n",
        "plt.ylabel(\"Frecuencia\")\n",
        "plt.hist(TA_datos['TA'], bins=500)\n",
        "plt.show()"
      ]
    },
    {
      "cell_type": "code",
      "execution_count": null,
      "metadata": {
        "colab": {
          "base_uri": "https://localhost:8080/",
          "height": 472
        },
        "id": "3meAxzvvZK4g",
        "outputId": "86586344-2431-486b-e30a-a0fd36ed430e"
      },
      "outputs": [
        {
          "data": {
            "image/png": "[encoded data removed]",
            "text/plain": [
              "<Figure size 640x480 with 1 Axes>"
            ]
          },
          "metadata": {},
          "output_type": "display_data"
        }
      ],
      "source": [
        "# Histograma de Intervalo de arribo\n",
        "plt.title(\"Histograma\")\n",
        "plt.xlabel(\"Intervalo de arribo\")\n",
        "plt.ylabel(\"Frecuencia\")\n",
        "plt.hist(IA_datos['IA'], bins=100)\n",
        "plt.show()"
      ]
    },
    {
      "cell_type": "markdown",
      "metadata": {
        "id": "vSULKWQzyof9"
      },
      "source": [
        "## Ajuste de Datos"
      ]
    },
    {
      "cell_type": "code",
      "execution_count": null,
      "metadata": {
        "colab": {
          "base_uri": "https://localhost:8080/"
        },
        "id": "aFNPO8q3cYtM",
        "outputId": "f0381f90-ba3a-49f9-ab55-ad5d62c5ab69"
      },
      "outputs": [
        {
          "name": "stdout",
          "output_type": "stream",
          "text": [
            "Collecting fitter\n",
            "  Downloading fitter-1.7.1-py3-none-any.whl.metadata (8.2 kB)\n",
            "Requirement already satisfied: click<9.0.0,>=8.1.6 in /usr/local/lib/python3.10/dist-packages (from fitter) (8.1.7)\n",
            "Requirement already satisfied: joblib<2.0.0,>=1.3.1 in /usr/local/lib/python3.10/dist-packages (from fitter) (1.4.2)\n",
            "Collecting loguru<0.8.0,>=0.7.2 (from fitter)\n",
            "  Downloading loguru-0.7.2-py3-none-any.whl.metadata (23 kB)\n",
            "Collecting matplotlib<4.0.0,>=3.7.2 (from fitter)\n",
            "  Downloading matplotlib-3.9.2-cp310-cp310-manylinux_2_17_x86_64.manylinux2014_x86_64.whl.metadata (11 kB)\n",
            "Requirement already satisfied: numpy<2.0.0,>=1.20.0 in /usr/local/lib/python3.10/dist-packages (from fitter) (1.26.4)\n",
            "Requirement already satisfied: pandas<3.0.0,>=0.23.4 in /usr/local/lib/python3.10/dist-packages (from fitter) (2.1.4)\n",
            "Collecting rich-click<2.0.0,>=1.7.2 (from fitter)\n",
            "  Downloading rich_click-1.8.3-py3-none-any.whl.metadata (7.9 kB)\n",
            "Requirement already satisfied: scipy<2.0.0,>=0.18.0 in /usr/local/lib/python3.10/dist-packages (from fitter) (1.13.1)\n",
            "Requirement already satisfied: tqdm<5.0.0,>=4.65.1 in /usr/local/lib/python3.10/dist-packages (from fitter) (4.66.5)\n",
            "Requirement already satisfied: contourpy>=1.0.1 in /usr/local/lib/python3.10/dist-packages (from matplotlib<4.0.0,>=3.7.2->fitter) (1.3.0)\n",
            "Requirement already satisfied: cycler>=0.10 in /usr/local/lib/python3.10/dist-packages (from matplotlib<4.0.0,>=3.7.2->fitter) (0.12.1)\n",
            "Requirement already satisfied: fonttools>=4.22.0 in /usr/local/lib/python3.10/dist-packages (from matplotlib<4.0.0,>=3.7.2->fitter) (4.53.1)\n",
            "Requirement already satisfied: kiwisolver>=1.3.1 in /usr/local/lib/python3.10/dist-packages (from matplotlib<4.0.0,>=3.7.2->fitter) (1.4.7)\n",
            "Requirement already satisfied: packaging>=20.0 in /usr/local/lib/python3.10/dist-packages (from matplotlib<4.0.0,>=3.7.2->fitter) (24.1)\n",
            "Requirement already satisfied: pillow>=8 in /usr/local/lib/python3.10/dist-packages (from matplotlib<4.0.0,>=3.7.2->fitter) (10.4.0)\n",
            "Requirement already satisfied: pyparsing>=2.3.1 in /usr/local/lib/python3.10/dist-packages (from matplotlib<4.0.0,>=3.7.2->fitter) (3.1.4)\n",
            "Requirement already satisfied: python-dateutil>=2.7 in /usr/local/lib/python3.10/dist-packages (from matplotlib<4.0.0,>=3.7.2->fitter) (2.8.2)\n",
            "Requirement already satisfied: pytz>=2020.1 in /usr/local/lib/python3.10/dist-packages (from pandas<3.0.0,>=0.23.4->fitter) (2024.2)\n",
            "Requirement already satisfied: tzdata>=2022.1 in /usr/local/lib/python3.10/dist-packages (from pandas<3.0.0,>=0.23.4->fitter) (2024.1)\n",
            "Requirement already satisfied: rich>=10.7 in /usr/local/lib/python3.10/dist-packages (from rich-click<2.0.0,>=1.7.2->fitter) (13.8.1)\n",
            "Requirement already satisfied: typing-extensions in /usr/local/lib/python3.10/dist-packages (from rich-click<2.0.0,>=1.7.2->fitter) (4.12.2)\n",
            "Requirement already satisfied: six>=1.5 in /usr/local/lib/python3.10/dist-packages (from python-dateutil>=2.7->matplotlib<4.0.0,>=3.7.2->fitter) (1.16.0)\n",
            "Requirement already satisfied: markdown-it-py>=2.2.0 in /usr/local/lib/python3.10/dist-packages (from rich>=10.7->rich-click<2.0.0,>=1.7.2->fitter) (3.0.0)\n",
            "Requirement already satisfied: pygments<3.0.0,>=2.13.0 in /usr/local/lib/python3.10/dist-packages (from rich>=10.7->rich-click<2.0.0,>=1.7.2->fitter) (2.18.0)\n",
            "Requirement already satisfied: mdurl~=0.1 in /usr/local/lib/python3.10/dist-packages (from markdown-it-py>=2.2.0->rich>=10.7->rich-click<2.0.0,>=1.7.2->fitter) (0.1.2)\n",
            "Downloading fitter-1.7.1-py3-none-any.whl (26 kB)\n",
            "Downloading loguru-0.7.2-py3-none-any.whl (62 kB)\n",
            "\u001b[2K   \u001b[90m━━━━━━━━━━━━━━━━━━━━━━━━━━━━━━━━━━━━━━━━\u001b[0m \u001b[32m62.5/62.5 kB\u001b[0m \u001b[31m5.7 MB/s\u001b[0m eta \u001b[36m0:00:00\u001b[0m\n",
            "\u001b[?25hDownloading matplotlib-3.9.2-cp310-cp310-manylinux_2_17_x86_64.manylinux2014_x86_64.whl (8.3 MB)\n",
            "\u001b[2K   \u001b[90m━━━━━━━━━━━━━━━━━━━━━━━━━━━━━━━━━━━━━━━━\u001b[0m \u001b[32m8.3/8.3 MB\u001b[0m \u001b[31m77.1 MB/s\u001b[0m eta \u001b[36m0:00:00\u001b[0m\n",
            "\u001b[?25hDownloading rich_click-1.8.3-py3-none-any.whl (35 kB)\n",
            "Installing collected packages: loguru, matplotlib, rich-click, fitter\n",
            "  Attempting uninstall: matplotlib\n",
            "    Found existing installation: matplotlib 3.7.1\n",
            "    Uninstalling matplotlib-3.7.1:\n",
            "      Successfully uninstalled matplotlib-3.7.1\n",
            "Successfully installed fitter-1.7.1 loguru-0.7.2 matplotlib-3.9.2 rich-click-1.8.3\n"
          ]
        }
      ],
      "source": [
        "pip install fitter"
      ]
    },
    {
      "cell_type": "code",
      "execution_count": null,
      "metadata": {
        "id": "jqV_MYRCzB3L"
      },
      "outputs": [],
      "source": [
        "#Importamos fitter\n",
        "from fitter import Fitter"
      ]
    },
    {
      "cell_type": "code",
      "execution_count": null,
      "metadata": {
        "id": "BcITxjc0zNVU"
      },
      "outputs": [],
      "source": [
        "f1 = Fitter(TA_datos['TA'])"
      ]
    },
    {
      "cell_type": "code",
      "execution_count": null,
      "metadata": {
        "id": "uFr7bVYLZjOo"
      },
      "outputs": [],
      "source": [
        "f2 = Fitter(IA_datos['IA'])"
      ]
    },
    {
      "cell_type": "code",
      "execution_count": null,
      "metadata": {
        "id": "F7bi_yl-znrX"
      },
      "outputs": [],
      "source": [
        "f1.fit()"
      ]
    },
    {
      "cell_type": "code",
      "execution_count": null,
      "metadata": {
        "id": "IRiZkxRbZqse"
      },
      "outputs": [],
      "source": [
        "f2.fit()"
      ]
    },
    {
      "cell_type": "code",
      "execution_count": null,
      "metadata": {
        "id": "hucM-t28RBgh"
      },
      "outputs": [],
      "source": [
        "f1.summary(5)"
      ]
    },
    {
      "cell_type": "code",
      "execution_count": null,
      "metadata": {
        "id": "y_-IWqTgaYPf"
      },
      "outputs": [],
      "source": [
        "f2.summary(5)"
      ]
    },
    {
      "cell_type": "code",
      "execution_count": null,
      "metadata": {
        "id": "-6dWD7Kh7l_N"
      },
      "outputs": [],
      "source": [
        "# Obtengo los parámetros de la mejor fdp\n",
        "f1.get_best(method='sumsquare_error')"
      ]
    },
    {
      "cell_type": "code",
      "execution_count": null,
      "metadata": {
        "id": "I9ClPJHaa8S4"
      },
      "outputs": [],
      "source": [
        "f2.get_best(method='sumsquare_error')"
      ]
    },
    {
      "cell_type": "markdown",
      "metadata": {
        "id": "czYUkpzvffG5"
      },
      "source": [
        "## Verificación"
      ]
    },
    {
      "cell_type": "code",
      "execution_count": null,
      "metadata": {
        "id": "zvkHzZJU9NHl"
      },
      "outputs": [],
      "source": [
        "loc1 = -91.13816963997854\n",
        "scale1 = 350.7249689146642\n",
        "h2 = 0.7882610005908149\n",
        "k2 = -1.1313667389574324\n",
        "loc2 = 7.047753953250408\n",
        "scale2 = 34.21147541897436\n",
        "kappa2 = 0.063135211043779"
      ]
    },
    {
      "cell_type": "code",
      "execution_count": null,
      "metadata": {
        "id": "__H9ZtwA8zsc"
      },
      "outputs": [],
      "source": [
        "f1_verif = stats.gibrat.rvs(loc1, scale1, size=4000, random_state=None)"
      ]
    },
    {
      "cell_type": "code",
      "execution_count": null,
      "metadata": {
        "id": "CUdeW90Bgl7G"
      },
      "outputs": [],
      "source": [
        "f2_verif = stats.kappa4.rvs(h2,k2,loc2,scale2, size=4000, random_state=None)"
      ]
    },
    {
      "cell_type": "code",
      "execution_count": null,
      "metadata": {
        "id": "mgRokAsg-pih"
      },
      "outputs": [],
      "source": [
        "type(f1_verif)"
      ]
    },
    {
      "cell_type": "code",
      "execution_count": null,
      "metadata": {
        "id": "KOPKRSc6gtp3"
      },
      "outputs": [],
      "source": [
        "type(f2_verif)"
      ]
    },
    {
      "cell_type": "code",
      "execution_count": null,
      "metadata": {
        "id": "xc1ry-Ud9wmN"
      },
      "outputs": [],
      "source": [
        "f1_verif"
      ]
    },
    {
      "cell_type": "code",
      "execution_count": null,
      "metadata": {
        "id": "m9uKvGq2gwwl"
      },
      "outputs": [],
      "source": [
        "f2_verif"
      ]
    },
    {
      "cell_type": "code",
      "execution_count": null,
      "metadata": {
        "id": "F2bClyat-vMQ"
      },
      "outputs": [],
      "source": [
        "# Histograma de datos de verificación\n",
        "plt.title(\"Histograma\")\n",
        "plt.xlabel(\"X axis\")\n",
        "plt.ylabel(\"Y axis\")\n",
        "plt.xlim(0, 80000)\n",
        "plt.ylim(0, 1200)\n",
        "plt.hist(f1_verif, bins=100)\n",
        "plt.show()"
      ]
    },
    {
      "cell_type": "code",
      "execution_count": null,
      "metadata": {
        "id": "pu6TMiDZg0Rm",
        "colab": {
          "base_uri": "https://localhost:8080/",
          "height": 211
        },
        "outputId": "5f5cca2f-672b-49ae-bb2f-2c0ec26c4131"
      },
      "outputs": [
        {
          "output_type": "error",
          "ename": "NameError",
          "evalue": "name 'plt' is not defined",
          "traceback": [
            "\u001b[0;31m---------------------------------------------------------------------------\u001b[0m",
            "\u001b[0;31mNameError\u001b[0m                                 Traceback (most recent call last)",
            "\u001b[0;32m<ipython-input-1-afee0ea76357>\u001b[0m in \u001b[0;36m<cell line: 2>\u001b[0;34m()\u001b[0m\n\u001b[1;32m      1\u001b[0m \u001b[0;31m# Histograma de datos de verificación\u001b[0m\u001b[0;34m\u001b[0m\u001b[0;34m\u001b[0m\u001b[0m\n\u001b[0;32m----> 2\u001b[0;31m \u001b[0mplt\u001b[0m\u001b[0;34m.\u001b[0m\u001b[0mtitle\u001b[0m\u001b[0;34m(\u001b[0m\u001b[0;34m\"Histograma\"\u001b[0m\u001b[0;34m)\u001b[0m\u001b[0;34m\u001b[0m\u001b[0;34m\u001b[0m\u001b[0m\n\u001b[0m\u001b[1;32m      3\u001b[0m \u001b[0mplt\u001b[0m\u001b[0;34m.\u001b[0m\u001b[0mxlabel\u001b[0m\u001b[0;34m(\u001b[0m\u001b[0;34m\"X axis\"\u001b[0m\u001b[0;34m)\u001b[0m\u001b[0;34m\u001b[0m\u001b[0;34m\u001b[0m\u001b[0m\n\u001b[1;32m      4\u001b[0m \u001b[0mplt\u001b[0m\u001b[0;34m.\u001b[0m\u001b[0mylabel\u001b[0m\u001b[0;34m(\u001b[0m\u001b[0;34m\"Y axis\"\u001b[0m\u001b[0;34m)\u001b[0m\u001b[0;34m\u001b[0m\u001b[0;34m\u001b[0m\u001b[0m\n\u001b[1;32m      5\u001b[0m \u001b[0mplt\u001b[0m\u001b[0;34m.\u001b[0m\u001b[0mxlim\u001b[0m\u001b[0;34m(\u001b[0m\u001b[0;36m0\u001b[0m\u001b[0;34m,\u001b[0m \u001b[0;36m4000\u001b[0m\u001b[0;34m)\u001b[0m\u001b[0;34m\u001b[0m\u001b[0;34m\u001b[0m\u001b[0m\n",
            "\u001b[0;31mNameError\u001b[0m: name 'plt' is not defined"
          ]
        }
      ],
      "source": [
        "# Histograma de datos de verificación\n",
        "plt.title(\"Histograma\")\n",
        "plt.xlabel(\"X axis\")\n",
        "plt.ylabel(\"Y axis\")\n",
        "plt.xlim(0, 4000)\n",
        "plt.ylim(0, 1000)\n",
        "plt.hist(f2_verif, bins=100)\n",
        "plt.show()"
      ]
    }
  ],
  "metadata": {
    "colab": {
      "provenance": []
    },
    "kernelspec": {
      "display_name": "Python 3",
      "name": "python3"
    },
    "language_info": {
      "name": "python"
    }
  },
  "nbformat": 4,
  "nbformat_minor": 0
}