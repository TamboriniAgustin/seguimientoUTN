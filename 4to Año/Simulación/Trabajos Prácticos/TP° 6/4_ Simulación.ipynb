{
  "nbformat": 4,
  "nbformat_minor": 0,
  "metadata": {
    "colab": {
      "provenance": []
    },
    "kernelspec": {
      "name": "python3",
      "display_name": "Python 3"
    },
    "language_info": {
      "name": "python"
    }
  },
  "cells": [
    {
      "cell_type": "markdown",
      "source": [
        "Librerias"
      ],
      "metadata": {
        "id": "rCupF2Y5TLaD"
      }
    },
    {
      "cell_type": "code",
      "source": [
        "import numpy as np\n",
        "from scipy.stats import kappa3\n",
        "from scipy.stats import kappa4\n",
        "from scipy.stats import gibrat\n",
        "import matplotlib.pyplot as plt"
      ],
      "metadata": {
        "id": "wuvnV-wnTORj"
      },
      "execution_count": null,
      "outputs": []
    },
    {
      "cell_type": "markdown",
      "source": [
        "Definición de constantes:"
      ],
      "metadata": {
        "id": "CIZRTGQJOlMo"
      }
    },
    {
      "cell_type": "code",
      "source": [
        "HV = 99999999999999999999999999999999"
      ],
      "metadata": {
        "id": "whjkiGwvW-_y"
      },
      "execution_count": null,
      "outputs": []
    },
    {
      "cell_type": "markdown",
      "source": [
        "Inicalizar variables de control"
      ],
      "metadata": {
        "id": "TPX_k-wkPJ2T"
      }
    },
    {
      "cell_type": "code",
      "source": [
        "#Variables de control\n",
        "N = 6\n",
        "F = 999999\n",
        "\n",
        "#Fin de la simulación\n",
        "TF = 390000 #Equivale a 9 meses, en minutos\n",
        "\n",
        "#======SLA==========\n",
        "SLA_HORAS = 48 #horas\n",
        "SLA_HORAS_DIA = SLA_HORAS / 3\n",
        "SLA = SLA_HORAS_DIA * 60"
      ],
      "metadata": {
        "id": "QHF1rgyNPM5C"
      },
      "execution_count": null,
      "outputs": []
    },
    {
      "cell_type": "markdown",
      "source": [
        "Inicializar tabla de eventos futuros y variables de resultado y de estado"
      ],
      "metadata": {
        "id": "4_qo9EGOOxbT"
      }
    },
    {
      "cell_type": "code",
      "source": [
        "#TEF\n",
        "TPLL = 0\n",
        "TPSF = HV\n",
        "TPSE = []\n",
        "\n",
        "#Resultado\n",
        "PTO = []\n",
        "PPS = 0\n",
        "PTF = 0\n",
        "\n",
        "#Estado\n",
        "ns = 0\n",
        "\n",
        "#Auxiliares\n",
        "nt = 0\n",
        "ITO = []\n",
        "T = 0\n",
        "STO = []\n",
        "ia = 0\n",
        "ta = 0\n",
        "x = 0\n",
        "nf = 0\n",
        "STLL = 0\n",
        "STS = 0\n",
        "STF = 0\n",
        "ITF = 0\n",
        "\n",
        "#############\n",
        "p = 0\n",
        "while p<N:\n",
        "  TPSE.append(HV)\n",
        "  PTO.append(HV)\n",
        "  STO.append(T)\n",
        "  ITO.append(T)\n",
        "  p = p + 1\n"
      ],
      "metadata": {
        "id": "HE-0uUiOPD3k"
      },
      "execution_count": null,
      "outputs": []
    },
    {
      "cell_type": "markdown",
      "source": [
        "Subrutinas - FDP"
      ],
      "metadata": {
        "id": "bn37u2OWSptb"
      }
    },
    {
      "cell_type": "code",
      "source": [
        "def ia():\n",
        "  temp = kappa4.rvs(h=0.7882610005908149, k=-1.1313667389574324, loc=7.047753953250408, scale=34.21147541897436,size=1)[0]\n",
        "  if temp > 4000:\n",
        "    temp = kappa4.rvs(h=0.7882610005908149, k=-1.1313667389574324, loc=7.047753953250408, scale=34.21147541897436,size=1)[0]\n",
        "  return (temp)\n",
        "\n",
        "def ta():\n",
        "  return (gibrat.rvs(loc=-91.13816963997854, scale=350.7249689146642,size=1)[0])\n",
        "  #return (kappa3.rvs(a=0.7005864105474631, loc=1.3499999986721618, scale=1153.2454727024315,size=1)[0])\n"
      ],
      "metadata": {
        "id": "ZJ7FQuBkSk_7"
      },
      "execution_count": null,
      "outputs": []
    },
    {
      "cell_type": "markdown",
      "source": [
        "Otras subrutinas"
      ],
      "metadata": {
        "id": "pmmdDhf9WO1C"
      }
    },
    {
      "cell_type": "code",
      "source": [
        "def obtenerMenorTPSE():\n",
        "  q = 0\n",
        "  j = 1\n",
        "  while j<N:\n",
        "    if TPSE[q]>TPSE[j]:\n",
        "      q = j\n",
        "    j = j+1\n",
        "  return(q)\n",
        "\n",
        "def buscarDesocupado():\n",
        "  j = 0\n",
        "  while j<N:\n",
        "    if TPSE[j]==HV:\n",
        "      break\n",
        "    j = j+1\n",
        "  return(j)\n",
        "\n"
      ],
      "metadata": {
        "id": "PO5YPd7UWRAy"
      },
      "execution_count": null,
      "outputs": []
    },
    {
      "cell_type": "markdown",
      "source": [
        "Simulación"
      ],
      "metadata": {
        "id": "wcO9KorjSaC0"
      }
    },
    {
      "cell_type": "code",
      "source": [
        "noVolverAEntrar = True\n",
        "while (T<TF or (T>=TF and ns!=0)):\n",
        "  x = obtenerMenorTPSE()\n",
        "  if(TPLL<=TPSE[x]):\n",
        "    #LLEGADA\n",
        "    T=TPLL\n",
        "    STLL = STLL + T\n",
        "    TPLL = T + ia()\n",
        "    ns = ns + 1\n",
        "    nt = nt + 1\n",
        "    if ((ns<=N) or (ns==N+1 and TPSF != HV)):\n",
        "      y = buscarDesocupado()\n",
        "      TPSE[y] = T + ta()\n",
        "      STO[y] = STO[y] + T - ITO[y]\n",
        "    elif (ns==F and TPSF==HV):\n",
        "      TPSF = T + ta()\n",
        "      ITF = T\n",
        "\n",
        "  elif (TPSE[x]<=TPSF):\n",
        "    #SALIDAE\n",
        "    T = TPSE[x]\n",
        "    STS = STS + T\n",
        "    ns = ns - 1\n",
        "    if ((ns>=N+1) or (ns>=N and TPSF==HV)):\n",
        "      TPSE[x] = T + ta()\n",
        "    else:\n",
        "      TPSE[x] = HV\n",
        "      ITO[x] = T\n",
        "\n",
        "  else:\n",
        "    #SALIDAF\n",
        "    T = TPSF\n",
        "    STF = STF + T - ITF\n",
        "    STS = STS + T\n",
        "    ns = ns - 1\n",
        "    nf = nf + 1\n",
        "    if (ns>=F):\n",
        "      TPSF = T + ta()\n",
        "      ITF = T\n",
        "    else:\n",
        "      TPSF = HV\n",
        "\n",
        "  if (T>=TF and noVolverAEntrar): #Condición de vaciamiento\n",
        "    TPLL = HV\n",
        "    noVolverAEntrar = False\n",
        "    print(\"Datos al momento de comenzar el vaciamiento\")\n",
        "    print(\"Cola:\", ns)\n",
        "    print(\"Valor de T:\", T)\n",
        "\n",
        "\n",
        "\n",
        "#Impresión de resultados\n",
        "print(\"\")\n",
        "print(\"\")\n",
        "print(\"=== Parámetros de la simulación ===\")\n",
        "print(\"Duración de la simulación: \", T, \" Tiempo final seteado: \", TF)\n",
        "print(\"N:\", N)\n",
        "print(\"F:\", F)\n",
        "print(\"SLA:\", SLA)\n",
        "print(\"=== Resultados de la simulación ===\")\n",
        "print(\"Porcentaje trabajado por el Freelance (PTF):\", STF*100/T,\"%\", \"STF (Es concurrente):\", STF)\n",
        "print(\"Promedio de permanencia en el sistema (PPS):\", (STS-STLL)/nt)\n",
        "print(\"Porcentaje de tickets resueltos por el freelance (PRF):\",  nf*100/nt, \"%\")\n",
        "\n",
        "print(\"Porcentaje de tiempo ocioso\")\n",
        "x = 0\n",
        "while x<N:\n",
        "  print(\">\",x+1,\": \", STO[x]*100/T, \"%\")\n",
        "  x = x+1\n",
        "\n",
        "\n",
        "print(\"Tickets totales:\", nt, \"Tickets atendidos por Freelance: \", nf)"
      ],
      "metadata": {
        "colab": {
          "base_uri": "https://localhost:8080/"
        },
        "id": "7s8otz9uScQ7",
        "outputId": "17af1ab9-3007-4f20-be19-27f6277864fb"
      },
      "execution_count": null,
      "outputs": [
        {
          "output_type": "stream",
          "name": "stdout",
          "text": [
            "Datos al momento de comenzar el vaciamiento\n",
            "Cola: 7\n",
            "Valor de T: 390001.5447895366\n",
            "\n",
            "\n",
            "=== Parámetros de la simulación ===\n",
            "Duración de la simulación:  391466.79173082457  Tiempo final seteado:  390000\n",
            "N: 6\n",
            "F: 999999\n",
            "SLA: 960.0\n",
            "=== Resultados de la simulación ===\n",
            "Porcentaje trabajado por el Freelance (PTF): 0.0 % STF (Es concurrente): 0\n",
            "Promedio de permanencia en el sistema (PPS): 677.0429741840406\n",
            "Porcentaje de tickets resueltos por el freelance (PRF): 0.0 %\n",
            "Porcentaje de tiempo ocioso\n",
            "> 1 :  39.27271208295467 %\n",
            "> 2 :  39.916617248874566 %\n",
            "> 3 :  42.89034586396478 %\n",
            "> 4 :  50.23591382001411 %\n",
            "> 5 :  50.04863511066026 %\n",
            "> 6 :  58.37116023213142 %\n",
            "Tickets totales: 2606 Tickets atendidos por Freelance:  0\n"
          ]
        }
      ]
    }
  ]
}